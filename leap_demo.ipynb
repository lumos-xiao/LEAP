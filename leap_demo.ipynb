{
 "cells": [
  {
   "cell_type": "code",
   "execution_count": null,
   "id": "ffb72395-e724-475c-868e-1dd6b4d8691a",
   "metadata": {},
   "outputs": [],
   "source": [
    "import textattack\n",
    "import transformers\n",
    "from datasets import load_from_disk\n",
    "\n",
    "\n",
    "\n",
    "ag = load_from_disk('ag_dataset')\n",
    "model = transformers.AutoModelForSequenceClassification.from_pretrained(\"ag_model\")\n",
    "tokenizer = transformers.AutoTokenizer.from_pretrained(\"bert-base-uncased_tokenizer\")\n",
    "model_wrapper = textattack.models.wrappers.HuggingFaceModelWrapper(model, tokenizer)\n",
    "attack = textattack.attack_recipes.leap_2023.LEAP2023.build(model_wrapper)\n",
    "\n",
    "\n",
    "text = ag['test'][7599]['text']\n",
    "label = ag['test'][7599]['label']\n",
    "example_ori = [(text,label)]\n",
    "\n",
    "for i in range(7599):\n",
    "  text = ag['test'][i]['text']\n",
    "  if text == '':\n",
    "    continue\n",
    "  label = ag['test'][i]['label']\n",
    "  example_ori.append((text,label))\n",
    "dataset = textattack.datasets.Dataset(example_ori)\n",
    "attack_args = textattack.AttackArgs(num_examples=1000, log_to_txt=\"demo.txt\", disable_stdout=True, shuffle = True, random_seed=42, log_to_csv='demo.csv')\n",
    "attacker = textattack.Attacker(attack, dataset, attack_args)\n",
    "attacker.attack_dataset()"
   ]
  }
 ],
 "metadata": {
  "kernelspec": {
   "display_name": "hga-baseline",
   "language": "python",
   "name": "hga-baseline"
  },
  "language_info": {
   "codemirror_mode": {
    "name": "ipython",
    "version": 3
   },
   "file_extension": ".py",
   "mimetype": "text/x-python",
   "name": "python",
   "nbconvert_exporter": "python",
   "pygments_lexer": "ipython3",
   "version": "3.9.7"
  }
 },
 "nbformat": 4,
 "nbformat_minor": 5
}
